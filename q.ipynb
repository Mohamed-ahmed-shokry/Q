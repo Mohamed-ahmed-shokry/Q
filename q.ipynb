{
 "cells": [
  {
   "cell_type": "code",
   "execution_count": 1,
   "id": "c3faf811-addb-4a0d-a7a7-0b97a6d0613b",
   "metadata": {},
   "outputs": [],
   "source": [
    "from qiskit import *\n",
    "from qiskit.visualization import plot_histogram\n",
    "from qiskit.tools.visualization import plot_bloch_multivector\n",
    "%matplotlib inline\n"
   ]
  },
  {
   "cell_type": "code",
   "execution_count": 2,
   "id": "a9f674b3-1e46-4223-b6e8-b38b5cdd52b7",
   "metadata": {},
   "outputs": [],
   "source": [
    "circuit = QuantumCircuit(1,1) "
   ]
  },
  {
   "cell_type": "code",
   "execution_count": 3,
   "id": "d3d3287b-bf80-414d-9e05-b41c907dcd74",
   "metadata": {},
   "outputs": [
    {
     "data": {
      "image/png": "[encoded data removed]",
      "text/plain": [
       "<Figure size 143.647x200.667 with 1 Axes>"
      ]
     },
     "execution_count": 3,
     "metadata": {},
     "output_type": "execute_result"
    }
   ],
   "source": [
    "circuit.draw(output ='mpl')"
   ]
  },
  {
   "cell_type": "code",
   "execution_count": 4,
   "id": "a0572bf4-8902-4f4e-8e3a-4bf066570b9e",
   "metadata": {},
   "outputs": [
    {
     "data": {
      "image/png": "[encoded data removed]",
      "text/plain": [
       "<Figure size 185.453x200.667 with 1 Axes>"
      ]
     },
     "execution_count": 4,
     "metadata": {},
     "output_type": "execute_result"
    }
   ],
   "source": [
    "circuit.h(0)\n",
    "circuit.draw(output='mpl')"
   ]
  },
  {
   "cell_type": "code",
   "execution_count": 5,
   "id": "774df3cc-4885-44fa-8a55-08b8248a7f33",
   "metadata": {},
   "outputs": [
    {
     "data": {
      "image/png": "[encoded data removed]",
      "text/plain": [
       "<Figure size 269.064x200.667 with 1 Axes>"
      ]
     },
     "execution_count": 5,
     "metadata": {},
     "output_type": "execute_result"
    }
   ],
   "source": [
    "circuit.measure([0], [0])\n",
    "circuit.draw(output='mpl') "
   ]
  },
  {
   "cell_type": "code",
   "execution_count": 8,
   "id": "74b0869b-ca9a-4e6e-b13d-2e6895d36fe4",
   "metadata": {},
   "outputs": [],
   "source": [
    "simulator = Aer.get_backend('qasm_simulator')"
   ]
  },
  {
   "cell_type": "code",
   "execution_count": 7,
   "id": "fd3d75c9",
   "metadata": {},
   "outputs": [
    {
     "name": "stdout",
     "output_type": "stream",
     "text": [
      "Collecting qiskit-aer\n",
      "  Downloading qiskit_aer-0.12.2-cp310-cp310-win_amd64.whl (9.6 MB)\n",
      "     ---------------------------------------- 9.6/9.6 MB 512.0 kB/s eta 0:00:00\n",
      "Requirement already satisfied: scipy>=1.0 in c:\\users\\ma548\\anaconda3\\lib\\site-packages (from qiskit-aer) (1.10.0)\n",
      "Requirement already satisfied: numpy>=1.16.3 in c:\\users\\ma548\\anaconda3\\lib\\site-packages (from qiskit-aer) (1.23.5)\n",
      "Requirement already satisfied: qiskit-terra>=0.21.0 in c:\\users\\ma548\\anaconda3\\lib\\site-packages (from qiskit-aer) (0.25.1)\n",
      "Requirement already satisfied: ply>=3.10 in c:\\users\\ma548\\anaconda3\\lib\\site-packages (from qiskit-terra>=0.21.0->qiskit-aer) (3.11)\n",
      "Requirement already satisfied: typing-extensions in c:\\users\\ma548\\anaconda3\\lib\\site-packages (from qiskit-terra>=0.21.0->qiskit-aer) (4.4.0)\n",
      "Requirement already satisfied: sympy>=1.3 in c:\\users\\ma548\\anaconda3\\lib\\site-packages (from qiskit-terra>=0.21.0->qiskit-aer) (1.11.1)\n",
      "Requirement already satisfied: rustworkx>=0.13.0 in c:\\users\\ma548\\anaconda3\\lib\\site-packages (from qiskit-terra>=0.21.0->qiskit-aer) (0.13.1)\n",
      "Requirement already satisfied: dill>=0.3 in c:\\users\\ma548\\anaconda3\\lib\\site-packages (from qiskit-terra>=0.21.0->qiskit-aer) (0.3.6)\n",
      "Requirement already satisfied: python-dateutil>=2.8.0 in c:\\users\\ma548\\anaconda3\\lib\\site-packages (from qiskit-terra>=0.21.0->qiskit-aer) (2.8.2)\n",
      "Requirement already satisfied: stevedore>=3.0.0 in c:\\users\\ma548\\anaconda3\\lib\\site-packages (from qiskit-terra>=0.21.0->qiskit-aer) (5.1.0)\n",
      "Requirement already satisfied: psutil>=5 in c:\\users\\ma548\\anaconda3\\lib\\site-packages (from qiskit-terra>=0.21.0->qiskit-aer) (5.9.0)\n",
      "Requirement already satisfied: six>=1.5 in c:\\users\\ma548\\anaconda3\\lib\\site-packages (from python-dateutil>=2.8.0->qiskit-terra>=0.21.0->qiskit-aer) (1.16.0)\n",
      "Requirement already satisfied: pbr!=2.1.0,>=2.0.0 in c:\\users\\ma548\\anaconda3\\lib\\site-packages (from stevedore>=3.0.0->qiskit-terra>=0.21.0->qiskit-aer) (5.11.1)\n",
      "Requirement already satisfied: mpmath>=0.19 in c:\\users\\ma548\\anaconda3\\lib\\site-packages (from sympy>=1.3->qiskit-terra>=0.21.0->qiskit-aer) (1.2.1)\n",
      "Installing collected packages: qiskit-aer\n",
      "Successfully installed qiskit-aer-0.12.2\n"
     ]
    }
   ],
   "source": [
    "! pip install qiskit-aer\n"
   ]
  },
  {
   "cell_type": "code",
   "execution_count": 9,
   "id": "8a5e1783",
   "metadata": {},
   "outputs": [],
   "source": [
    "result = execute(circuit, backend=simulator).result()"
   ]
  },
  {
   "cell_type": "code",
   "execution_count": 10,
   "id": "b1f0441a",
   "metadata": {},
   "outputs": [
    {
     "data": {
      "image/png": "[encoded data removed]",
      "text/plain": [
       "<Figure size 700x500 with 1 Axes>"
      ]
     },
     "execution_count": 10,
     "metadata": {},
     "output_type": "execute_result"
    }
   ],
   "source": [
    "plot_histogram(result.get_counts(circuit))"
   ]
  },
  {
   "cell_type": "code",
   "execution_count": null,
   "id": "d2f34711",
   "metadata": {},
   "outputs": [],
   "source": []
  }
 ],
 "metadata": {
  "kernelspec": {
   "display_name": "Python 3 (ipykernel)",
   "language": "python",
   "name": "python3"
  },
  "language_info": {
   "codemirror_mode": {
    "name": "ipython",
    "version": 3
   },
   "file_extension": ".py",
   "mimetype": "text/x-python",
   "name": "python",
   "nbconvert_exporter": "python",
   "pygments_lexer": "ipython3",
   "version": "3.10.9"
  }
 },
 "nbformat": 4,
 "nbformat_minor": 5
}
